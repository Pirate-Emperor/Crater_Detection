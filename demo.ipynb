{
 "cells": [
  {
   "cell_type": "markdown",
   "metadata": {},
   "source": [
    "# PyCDA: Simple Sub-Km Crater Detection\n",
    "\n",
    "PyCDA was built to make crater detection <I>simple</I>."
   ]
  },
  {
   "cell_type": "code",
   "execution_count": 1,
   "metadata": {},
   "outputs": [
    {
     "name": "stdout",
     "output_type": "stream",
     "text": [
      "Requirement already satisfied: watershed in c:\\users\\anita singh\\appdata\\local\\programs\\python\\python38\\lib\\site-packages (2.2.2)\n"
     ]
    },
    {
     "name": "stderr",
     "output_type": "stream",
     "text": [
      "WARNING: You are using pip version 20.2.3; however, version 23.3.1 is available.\n",
      "You should consider upgrading via the 'c:\\users\\anita singh\\appdata\\local\\programs\\python\\python38\\python.exe -m pip install --upgrade pip' command.\n"
     ]
    }
   ],
   "source": [
    "!pip install watershed"
   ]
  },
  {
   "cell_type": "code",
   "execution_count": 2,
   "metadata": {},
   "outputs": [
    {
     "ename": "ImportError",
     "evalue": "cannot import name 'watershed' from 'skimage.morphology' (C:\\Users\\Anita Singh\\AppData\\Local\\Programs\\Python\\Python311\\Lib\\site-packages\\skimage\\morphology\\__init__.py)",
     "output_type": "error",
     "traceback": [
      "\u001b[1;31m---------------------------------------------------------------------------\u001b[0m",
      "\u001b[1;31mImportError\u001b[0m                               Traceback (most recent call last)",
      "Cell \u001b[1;32mIn[2], line 1\u001b[0m\n\u001b[1;32m----> 1\u001b[0m \u001b[38;5;28;01mfrom\u001b[39;00m \u001b[38;5;21;01mpycda\u001b[39;00m \u001b[38;5;28;01mimport\u001b[39;00m CDA\n",
      "File \u001b[1;32m~\\AppData\\Local\\Programs\\Python\\Python311\\Lib\\site-packages\\pycda\\__init__.py:8\u001b[0m\n\u001b[0;32m      6\u001b[0m \u001b[38;5;28;01mimport\u001b[39;00m \u001b[38;5;21;01mgc\u001b[39;00m\n\u001b[0;32m      7\u001b[0m \u001b[38;5;28;01mfrom\u001b[39;00m \u001b[38;5;21;01mpycda\u001b[39;00m \u001b[38;5;28;01mimport\u001b[39;00m detectors\n\u001b[1;32m----> 8\u001b[0m \u001b[38;5;28;01mfrom\u001b[39;00m \u001b[38;5;21;01mpycda\u001b[39;00m \u001b[38;5;28;01mimport\u001b[39;00m extractors\n\u001b[0;32m      9\u001b[0m \u001b[38;5;28;01mfrom\u001b[39;00m \u001b[38;5;21;01mpycda\u001b[39;00m \u001b[38;5;28;01mimport\u001b[39;00m classifiers\n\u001b[0;32m     10\u001b[0m \u001b[38;5;28;01mfrom\u001b[39;00m \u001b[38;5;21;01mpycda\u001b[39;00m \u001b[38;5;28;01mimport\u001b[39;00m predictions\n",
      "File \u001b[1;32m~\\AppData\\Local\\Programs\\Python\\Python311\\Lib\\site-packages\\pycda\\extractors.py:6\u001b[0m\n\u001b[0;32m      4\u001b[0m \u001b[38;5;28;01mfrom\u001b[39;00m \u001b[38;5;21;01mscipy\u001b[39;00m \u001b[38;5;28;01mimport\u001b[39;00m ndimage \u001b[38;5;28;01mas\u001b[39;00m ndi\n\u001b[0;32m      5\u001b[0m \u001b[38;5;28;01mfrom\u001b[39;00m \u001b[38;5;21;01mscipy\u001b[39;00m\u001b[38;5;21;01m.\u001b[39;00m\u001b[38;5;21;01mndimage\u001b[39;00m \u001b[38;5;28;01mimport\u001b[39;00m find_objects\n\u001b[1;32m----> 6\u001b[0m \u001b[38;5;28;01mfrom\u001b[39;00m \u001b[38;5;21;01mskimage\u001b[39;00m\u001b[38;5;21;01m.\u001b[39;00m\u001b[38;5;21;01mmorphology\u001b[39;00m \u001b[38;5;28;01mimport\u001b[39;00m watershed\n\u001b[0;32m      7\u001b[0m \u001b[38;5;28;01mfrom\u001b[39;00m \u001b[38;5;21;01mskimage\u001b[39;00m\u001b[38;5;21;01m.\u001b[39;00m\u001b[38;5;21;01mfeature\u001b[39;00m \u001b[38;5;28;01mimport\u001b[39;00m peak_local_max\n\u001b[0;32m      8\u001b[0m \u001b[38;5;28;01mfrom\u001b[39;00m \u001b[38;5;21;01mmath\u001b[39;00m \u001b[38;5;28;01mimport\u001b[39;00m sqrt, pi\n",
      "\u001b[1;31mImportError\u001b[0m: cannot import name 'watershed' from 'skimage.morphology' (C:\\Users\\Anita Singh\\AppData\\Local\\Programs\\Python\\Python311\\Lib\\site-packages\\skimage\\morphology\\__init__.py)"
     ]
    }
   ],
   "source": [
    "from pycda import CDA"
   ]
  },
  {
   "cell_type": "markdown",
   "metadata": {},
   "source": [
    "# Making a Prediction\n",
    "We'll start with a simple greyscale image. This is an image of the Nanedi Vallis; the resolution is 12.5 meters per pixel, and the image is 1700x1700 pixels, or roughly 21km x 21km."
   ]
  },
  {
   "cell_type": "code",
   "execution_count": null,
   "metadata": {},
   "outputs": [],
   "source": [
    "from pycda.sample_data import get_sample_image\n",
    "image = get_sample_image()\n",
    "image.show();"
   ]
  },
  {
   "cell_type": "markdown",
   "metadata": {},
   "source": [
    "## Build a CDA Pipeline\n",
    "PyCDA is designed to work \"out of the box.\" That means you can simply instantiate the pipeline by calling the CDA class:"
   ]
  },
  {
   "cell_type": "code",
   "execution_count": null,
   "metadata": {},
   "outputs": [],
   "source": [
    "cda = CDA()"
   ]
  },
  {
   "cell_type": "markdown",
   "metadata": {},
   "source": [
    "## Get Detections\n",
    "Your CDA instance is loaded and ready to make detections! Call the .predict() method on an image to get crater annotations from your pipeline. The image in this example is a special PyCDA image class, but numpy arrays and PIL images are also supported in this alpha version."
   ]
  },
  {
   "cell_type": "code",
   "execution_count": null,
   "metadata": {},
   "outputs": [],
   "source": [
    "detections = cda.predict(image)\n",
    "detections.head(4)"
   ]
  },
  {
   "cell_type": "markdown",
   "metadata": {},
   "source": [
    "### Detection Format\n",
    "The detections are returned in the form of a pandas dataframe; 'lat' is the vertical position of the detected crater from the top of the image, 'long' is its horizontal position from the left edge of the image. PyCDA models these small impact craters as circles, centered at (lat, long) with the given diameter (in pixels).\n",
    "\n",
    "### Exporting Detections\n",
    "The pandas dataframe makes it easy to convert your detections to a csv file. Simply call .to_csv(filename). If you want to exclude the numbered index column, use index=False:"
   ]
  },
  {
   "cell_type": "code",
   "execution_count": null,
   "metadata": {},
   "outputs": [],
   "source": [
    "detections.to_csv('~/Documents/my_file.csv', index=False)"
   ]
  },
  {
   "cell_type": "markdown",
   "metadata": {},
   "source": [
    "## Inspecting Your Detections\n",
    "Crater detection is difficult, and PyCDA is certainly not 100% accurate. It's a good idea to visually inspect the detections made by PyCDA. To make this easy, PyCDA includes a special Prediction class that draws detections over the input image with .show(). To get your Prediction object, just use the .get_prediction() method on your image. It should be quick; PyCDA remembers previous images to avoid repeating heavy computations."
   ]
  },
  {
   "cell_type": "code",
   "execution_count": null,
   "metadata": {},
   "outputs": [],
   "source": [
    "prediction = cda.get_prediction(image)\n",
    "prediction.set_scale(12.5)\n",
    "prediction.show()"
   ]
  },
  {
   "cell_type": "markdown",
   "metadata": {},
   "source": [
    "We can see that the algorithm has made some good detections, and some bad ones, too. \n",
    "\n",
    "## Error Analysis\n",
    "\n",
    "For research purposes, it's important to quantify the error rate of our CDA pipeline. The PyCDA error_stats submodule helps us do this. We can't perform an error analysis without known crater locations; you'll need to produce annotations to use this feature.<br><br>\n",
    "Start by adding your known annotations to the prediction object. Use a pandas dataframe with the same format for known craters: 'lat', 'long', and 'diameter'."
   ]
  },
  {
   "cell_type": "code",
   "execution_count": null,
   "metadata": {},
   "outputs": [],
   "source": [
    "from pycda.error_stats import ErrorAnalyzer\n",
    "from pycda.sample_data import get_sample_csv\n",
    "\n",
    "prediction.known_craters = get_sample_csv()\n",
    "an = ErrorAnalyzer()\n",
    "an.analyze(prediction)"
   ]
  },
  {
   "cell_type": "markdown",
   "metadata": {},
   "source": [
    "You'll get a printout of some error statistics. You can see we've detected close to 60% of the craters in our image, with a pretty even distribution of error types; our model seems slightly more prone to missing craters than presenting false detections, but both types of errors are present.\n",
    "\n",
    "### Visualizing Errors\n",
    "\n",
    "The ErrorAnalyzer object has some visualization tools; to see a map of detections, known craters, and matches, call .show():"
   ]
  },
  {
   "cell_type": "code",
   "execution_count": null,
   "metadata": {},
   "outputs": [],
   "source": [
    "an.show()"
   ]
  },
  {
   "cell_type": "markdown",
   "metadata": {},
   "source": [
    "To compare estimated to known crater counts by size, use .plot_densities():"
   ]
  },
  {
   "cell_type": "code",
   "execution_count": null,
   "metadata": {},
   "outputs": [],
   "source": [
    "an.plot_densities()"
   ]
  },
  {
   "cell_type": "markdown",
   "metadata": {},
   "source": [
    "## Algorithm Function and Improving Performance\n",
    "\n",
    "PyCDA produces detections using a three-step pipeline:\n",
    "\n",
    "   1. Detection: The detector model makes a pixel-wise prediction.\n",
    "   2. Extraction: A geometric model converts groups of pixels into crater proposals.\n",
    "   3. Classification: A binary classifier inspects each proposal and decides if it is a crater or a false detection.<br>\n",
    "   \n",
    "Improving any one of these three steps can improve model performance.\n",
    "\n",
    "### 1. Detection"
   ]
  },
  {
   "cell_type": "markdown",
   "metadata": {},
   "source": [
    "The output of the detection model in our example looks like this:"
   ]
  },
  {
   "cell_type": "code",
   "execution_count": null,
   "metadata": {},
   "outputs": [],
   "source": [
    "prediction.show_detection()"
   ]
  },
  {
   "cell_type": "markdown",
   "metadata": {},
   "source": [
    "We can see the splotches where craters have been picked up by the model.<br>\n",
    "PyCDA uses a \"U-net\" convolutional neural network to produce these detections; this type of model was selected because it gives highly location-specific predictions. It is implimented through keras and tensorflow under the hood."
   ]
  },
  {
   "cell_type": "markdown",
   "metadata": {},
   "source": [
    "### 2. Extraction\n",
    "We've got a pretty map of potential craters. Extraction is the process of converting these splotches into simple, three-point detections: lat, long, and diameter.\n",
    "\n",
    "By default, PyCDA models these splotches as circles; after binarizing the detection image, the extractor identifies independent groups of nonzero pixels. It then computes the centroid of these pixel groups and uses the number of pixels as the area of the circle to compute its diameter.\n",
    "\n",
    "It's a simple approach and it works well... sometimes. Its biggest problem comes from \"touching\" craters, such as the tight group located in the upper-lefthand corner of our sample image. That's why you'll notice our detection map puts one big crater right in the center of that group.\n",
    "\n",
    "An alternative approach is to use an image processing technique to identify unique \"blobs\" in a group of touching \"blobs\" called <a href='http://scikit-image.org/docs/dev/auto_examples/segmentation/plot_watershed.html'>watershed segmentation</a>. PyCDA comes with the option to use this technique as an alternative to the circle model."
   ]
  },
  {
   "cell_type": "code",
   "execution_count": null,
   "metadata": {},
   "outputs": [],
   "source": [
    "new_cda = CDA(extractor='watershed')\n",
    "new_prediction = new_cda.get_prediction(image)\n",
    "new_prediction.show()"
   ]
  },
  {
   "cell_type": "markdown",
   "metadata": {},
   "source": [
    "It looks like that took care of the issue! The downside to this segmentation technique is that it tends to produce a higher number of small detections and lower-quality diameter measurements. Let's see how the detection performance compares:"
   ]
  },
  {
   "cell_type": "code",
   "execution_count": null,
   "metadata": {},
   "outputs": [],
   "source": [
    "new_prediction.known_craters = prediction.known_craters\n",
    "an.analyze(new_prediction)"
   ]
  },
  {
   "cell_type": "code",
   "execution_count": null,
   "metadata": {},
   "outputs": [],
   "source": [
    "an.plot_densities()"
   ]
  },
  {
   "cell_type": "markdown",
   "metadata": {},
   "source": [
    "It looks like that bought us a bump in overall performance!\n",
    "\n",
    "### 3. Classification\n",
    "\n",
    "The final step in the pipeline is a binary classifier; PyCDA takes the proposals from the extractor, crops tiny images of the proposals from the input image, and feeds them to the classifier for prediction.\n",
    "The default classifier is a small convolutional neural net that takes a 12x12 pixel cropped image of the crater as an input; it does a decent job of weeding out the bad detections.<br><br>\n",
    "The first version of PyCDA does not come with any additional classifiers, but a user can easily use the CustomClassifier class to try a new one. PyCDA will automatically detect input dimensions, which makes plugging a custom model into the pipeline very easy; the user only needs to specify the filepath to the saved keras model and 'crater_pixels,' the number of pixels the crater candidate should occupy in the center of the cropped images."
   ]
  },
  {
   "cell_type": "code",
   "execution_count": null,
   "metadata": {},
   "outputs": [],
   "source": [
    "from pycda.classifiers import CustomClassifier\n",
    "\n",
    "#This is a new classifier that I trained using more parameters,\n",
    "#regularization, and other fancy neural net stuff.\n",
    "my_classifier = CustomClassifier(model_path='../Documents/crater_models/sample_classifier.h5', crater_pixels=6)\n",
    "new_cda.classifier = my_classifier\n",
    "third_pred = new_cda.get_prediction(image)"
   ]
  },
  {
   "cell_type": "code",
   "execution_count": null,
   "metadata": {},
   "outputs": [],
   "source": [
    "third_pred.known_craters = new_prediction.known_craters\n",
    "an.analyze(third_pred)"
   ]
  },
  {
   "cell_type": "markdown",
   "metadata": {},
   "source": [
    "Oops! Looks like I'd better stick with the default classifier...\n",
    "\n",
    "# PyCDA: Fast, Flexible Crater Detection\n",
    "Most users will have a very specific task in mind when using PyCDA; that's why it's designed to apply custom models and varied image formats for maximum flexibility. Use the CustomDetector and CustomClassifier classes to quickly deploy your models and get detecting!"
   ]
  }
 ],
 "metadata": {
  "kernelspec": {
   "display_name": "Python 3 (ipykernel)",
   "language": "python",
   "name": "python3"
  },
  "language_info": {
   "codemirror_mode": {
    "name": "ipython",
    "version": 3
   },
   "file_extension": ".py",
   "mimetype": "text/x-python",
   "name": "python",
   "nbconvert_exporter": "python",
   "pygments_lexer": "ipython3",
   "version": "3.11.4"
  }
 },
 "nbformat": 4,
 "nbformat_minor": 4
}
